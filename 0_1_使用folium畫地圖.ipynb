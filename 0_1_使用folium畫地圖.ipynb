{
  "nbformat": 4,
  "nbformat_minor": 0,
  "metadata": {
    "colab": {
      "name": "0-1 使用folium畫地圖.ipynb",
      "provenance": [],
      "collapsed_sections": [],
      "include_colab_link": true
    },
    "kernelspec": {
      "display_name": "Python 3",
      "language": "python",
      "name": "python3"
    },
    "language_info": {
      "codemirror_mode": {
        "name": "ipython",
        "version": 3
      },
      "file_extension": ".py",
      "mimetype": "text/x-python",
      "name": "python",
      "nbconvert_exporter": "python",
      "pygments_lexer": "ipython3",
      "version": "3.7.1"
    }
  },
  "cells": [
    {
      "cell_type": "markdown",
      "metadata": {
        "id": "view-in-github",
        "colab_type": "text"
      },
      "source": [
        "<a href=\"https://colab.research.google.com/github/harveylee290378/harveylee/blob/master/0_1_%E4%BD%BF%E7%94%A8folium%E7%95%AB%E5%9C%B0%E5%9C%96.ipynb\" target=\"_parent\"><img src=\"https://colab.research.google.com/assets/colab-badge.svg\" alt=\"Open In Colab\"/></a>"
      ]
    },
    {
      "cell_type": "markdown",
      "metadata": {
        "colab_type": "text",
        "id": "N2AF8tbYhjfb"
      },
      "source": [
        "# 使用 folium 畫地圖\n",
        "\n",
        "folium 的使用請參考：https://python-visualization.github.io/folium/"
      ]
    },
    {
      "cell_type": "code",
      "metadata": {
        "colab_type": "code",
        "id": "IRVxs8u6fiDA",
        "colab": {}
      },
      "source": [
        "# 安裝套件\n",
        "!pip install -q folium"
      ],
      "execution_count": 0,
      "outputs": []
    },
    {
      "cell_type": "code",
      "metadata": {
        "colab_type": "code",
        "id": "UJsZPTH6f2WQ",
        "colab": {}
      },
      "source": [
        "# 載入需要的模組\n",
        "import folium"
      ],
      "execution_count": 0,
      "outputs": []
    },
    {
      "cell_type": "code",
      "metadata": {
        "colab_type": "code",
        "id": "aKlqzX34gkhO",
        "colab": {}
      },
      "source": [
        "# 給定城市名稱\n",
        "city = \"高雄市\"\n",
        "\n",
        "# 高雄市的 gps 座標\n",
        "city_gps = [22.6203348, 120.3120375]"
      ],
      "execution_count": 0,
      "outputs": []
    },
    {
      "cell_type": "code",
      "metadata": {
        "colab_type": "code",
        "id": "OUeXm2SugF-v",
        "colab": {}
      },
      "source": [
        "# 用 folium 畫地圖，並放到變數 m 裡面去。\n",
        "m = folium.Map(location=city_gps, zoom_start=16)\n",
        "\n",
        "# 在地圖上的 location 的座標加上一個 Marker。\n",
        "folium.Marker(location=city_gps, popup=city).add_to(m)"
      ],
      "execution_count": 0,
      "outputs": []
    },
    {
      "cell_type": "code",
      "metadata": {
        "colab_type": "code",
        "id": "d5WUba5XgVo1",
        "colab": {}
      },
      "source": [
        "# 顯示出地圖\n",
        "m"
      ],
      "execution_count": 0,
      "outputs": []
    }
  ]
}