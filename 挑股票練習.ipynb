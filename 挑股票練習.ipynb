{
  "nbformat": 4,
  "nbformat_minor": 0,
  "metadata": {
    "kernelspec": {
      "display_name": "Python 3",
      "language": "python",
      "name": "python3"
    },
    "language_info": {
      "codemirror_mode": {
        "name": "ipython",
        "version": 3
      },
      "file_extension": ".py",
      "mimetype": "text/x-python",
      "name": "python",
      "nbconvert_exporter": "python",
      "pygments_lexer": "ipython3",
      "version": "3.7.1"
    },
    "colab": {
      "name": "Copy of 挑股票練習.ipynb",
      "provenance": [],
      "include_colab_link": true
    }
  },
  "cells": [
    {
      "cell_type": "markdown",
      "metadata": {
        "id": "view-in-github",
        "colab_type": "text"
      },
      "source": [
        "<a href=\"https://colab.research.google.com/github/harveylee290378/harveylee/blob/master/%E6%8C%91%E8%82%A1%E7%A5%A8%E7%B7%B4%E7%BF%92.ipynb\" target=\"_parent\"><img src=\"https://colab.research.google.com/assets/colab-badge.svg\" alt=\"Open In Colab\"/></a>"
      ]
    },
    {
      "cell_type": "markdown",
      "metadata": {
        "id": "yu-H3_0LgYzh",
        "colab_type": "text"
      },
      "source": [
        "## 【練習】\n",
        "\n",
        "假設我們用不同的策略，挑出了兩堆股票。\n",
        "\n",
        "怎麼找出同時符合兩個策略的股票？"
      ]
    },
    {
      "cell_type": "code",
      "metadata": {
        "id": "ixQmIFmXgYzm",
        "colab_type": "code",
        "colab": {}
      },
      "source": [
        "import pandas as pd"
      ],
      "execution_count": 0,
      "outputs": []
    },
    {
      "cell_type": "code",
      "metadata": {
        "id": "HppfBYl_ixqC",
        "colab_type": "code",
        "colab": {}
      },
      "source": [
        "import random"
      ],
      "execution_count": 0,
      "outputs": []
    },
    {
      "cell_type": "code",
      "metadata": {
        "id": "ezZAP8lrgYzt",
        "colab_type": "code",
        "colab": {}
      },
      "source": [
        "url = \"https://dts.twse.com.tw/opendata/t187ap03_L.csv\""
      ],
      "execution_count": 0,
      "outputs": []
    },
    {
      "cell_type": "code",
      "metadata": {
        "id": "3I9KY9ItgYz1",
        "colab_type": "code",
        "colab": {}
      },
      "source": [
        "df = pd.read_csv(url)"
      ],
      "execution_count": 0,
      "outputs": []
    },
    {
      "cell_type": "code",
      "metadata": {
        "id": "M4RHDgKAgYz4",
        "colab_type": "code",
        "colab": {}
      },
      "source": [
        "all = df[\"公司簡稱\"]"
      ],
      "execution_count": 0,
      "outputs": []
    },
    {
      "cell_type": "code",
      "metadata": {
        "id": "QobyuRxtir2n",
        "colab_type": "code",
        "colab": {}
      },
      "source": [
        "strategy1 = random.choices(all, k=50)"
      ],
      "execution_count": 0,
      "outputs": []
    },
    {
      "cell_type": "code",
      "metadata": {
        "id": "JCMqe0xhjICo",
        "colab_type": "code",
        "colab": {}
      },
      "source": [
        "strategy2 = random.choices(all, k=100)"
      ],
      "execution_count": 0,
      "outputs": []
    },
    {
      "cell_type": "code",
      "metadata": {
        "id": "unEtphmtjRtI",
        "colab_type": "code",
        "outputId": "bc0bb349-0030-449b-c91e-822b7e0e2692",
        "colab": {
          "base_uri": "https://localhost:8080/",
          "height": 35
        }
      },
      "source": [
        "set(strategy1) & set(strategy2)"
      ],
      "execution_count": 0,
      "outputs": [
        {
          "output_type": "execute_result",
          "data": {
            "text/plain": [
              "{'中興電', '振樺電', '揚智', '杏輝', '鎰勝', '駐龍'}"
            ]
          },
          "metadata": {
            "tags": []
          },
          "execution_count": 9
        }
      ]
    }
  ]
}